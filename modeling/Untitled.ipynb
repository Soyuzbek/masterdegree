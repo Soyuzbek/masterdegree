{
 "cells": [
  {
   "cell_type": "code",
   "execution_count": 178,
   "metadata": {},
   "outputs": [
    {
     "name": "stdout",
     "output_type": "stream",
     "text": [
      "[-1.0, 3.0, -4.0]\n"
     ]
    }
   ],
   "source": [
    "a = [\n",
    "    [1, 2, 3],\n",
    "    [2, -3, -5],\n",
    "    [-6, -8, 1]\n",
    "]\n",
    "b = [[-7],[9], [-22]]\n",
    "\"\"\"Solve the Linear algebraic equation systems with Gaussian method\"\"\"\n",
    "def det(A, total=0):\n",
    "    indices = list(range(len(A)))\n",
    "    if len(A) == 2 and len(A[0]) == 2:\n",
    "        val = A[0][0] * A[1][1] - A[1][0] * A[0][1]\n",
    "        return val\n",
    "    for fc in indices:\n",
    "        As = A.copy()\n",
    "        As = As[1:]\n",
    "        As = [As[i][0:fc] + As[i][fc+1:] for i in range(len(As))]\n",
    "        total += (-1) ** (fc % 2) * A[0][fc] * det(As)\n",
    "    return total\n",
    "def gaussian(a, b):\n",
    "        \"\"\"Solve the Linear algebraic equation systems with Gaussian method\"\"\"\n",
    "        if det(a) == 0:\n",
    "                print('det is equalt to : ', det(a))\n",
    "                return \"The system consists singular matrix therefore solution not exists or there are infinity solutions\"\n",
    "        for i in range(len(b)):\n",
    "                k = i\n",
    "                while a[k][i] == 0 and k+1 != len(b):\n",
    "                    k += 1\n",
    "                b[i], b[k] = b[k], b[i]\n",
    "                a[i], a[k] = a[k], a[i]\n",
    "                b[i] = [x / a[i][i] for x in b[i]]\n",
    "                a[i] = [x / a[i][i] for x in a[i]]\n",
    "                b[i+1:] = [[x - a[j][i]*y for x, y in zip(b[j], b[i])] for j in range(i+1, len(a[0]))]\n",
    "                a[i+1:] = [[x - a[j][i]*y for x, y in zip(a[j], a[i])] for j in range(i+1, len(a[0]))]\n",
    "        result = [0 for i in range(len(b))]\n",
    "        for i in range(len(b)-1, -1, -1):\n",
    "                result[i] = b[i][0] - sum([a[i][j]*result[j] for j in range(len(a)-1, -1, -1)])\n",
    "        return result\n",
    "solution = gaussian(a, b)\n",
    "print(solution)"
   ]
  },
  {
   "cell_type": "code",
   "execution_count": null,
   "metadata": {},
   "outputs": [],
   "source": []
  }
 ],
 "metadata": {
  "kernelspec": {
   "display_name": "Python 3",
   "language": "python",
   "name": "python3"
  },
  "language_info": {
   "codemirror_mode": {
    "name": "ipython",
    "version": 3
   },
   "file_extension": ".py",
   "mimetype": "text/x-python",
   "name": "python",
   "nbconvert_exporter": "python",
   "pygments_lexer": "ipython3",
   "version": "3.7.4"
  }
 },
 "nbformat": 4,
 "nbformat_minor": 2
}
